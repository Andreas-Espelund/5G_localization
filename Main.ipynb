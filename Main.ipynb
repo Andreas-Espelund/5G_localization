{
 "cells": [
  {
   "metadata": {},
   "cell_type": "markdown",
   "source": "# 5G Localization",
   "id": "aa51527d8d132495"
  },
  {
   "metadata": {},
   "cell_type": "markdown",
   "source": "## Read matlab files to dataframes",
   "id": "d7a0621d83968b2"
  },
  {
   "cell_type": "code",
   "id": "a503af1d-b56c-4cc9-bb77-88d8a63bdbd5",
   "metadata": {
    "ExecuteTime": {
     "end_time": "2024-09-04T13:16:37.697938Z",
     "start_time": "2024-09-04T13:16:35.754323Z"
    }
   },
   "source": [
    "import os\n",
    "\n",
    "import pandas as pd\n",
    "\n",
    "from scripts.data_loader import load_matlab_file_as_df\n",
    "\n",
    "# source file\n",
    "BASE_DIR = \"data/\"\n",
    "FULL_DATA_SET = \"Campaign_data_NBIoT_1_2_3_4_5_6_interpolated_smoothed.mat\"\n",
    "filename = os.path.join(BASE_DIR, FULL_DATA_SET)\n",
    "\n",
    "# load the dataset as pandas dataframe\n",
    "df = load_matlab_file_as_df(\n",
    "    filename=filename,\n",
    "    dataset='dataSet_smooth',  # dataSet, dataSet_interp or dataSet_smooth\n",
    "    usecols=['lat', 'lng', 'measurements_matrix']\n",
    ")\n",
    "\n",
    "# better printing of dataframes\n",
    "pd.set_option('display.max_columns', None)  # Show all columns\n",
    "pd.set_option('display.max_colwidth', None)  # No limit on column width\n",
    "pd.set_option('display.width', 1000)  # Set the display width to 1000 characters"
   ],
   "outputs": [],
   "execution_count": 2
  },
  {
   "metadata": {
    "ExecuteTime": {
     "end_time": "2024-09-04T12:40:07.317443Z",
     "start_time": "2024-09-04T12:40:07.316224Z"
    }
   },
   "cell_type": "code",
   "source": "",
   "id": "7845fa9c531dc2f8",
   "outputs": [],
   "execution_count": null
  },
  {
   "metadata": {},
   "cell_type": "markdown",
   "source": "## Prepare data",
   "id": "7e05d2d4d84da3"
  },
  {
   "metadata": {
    "ExecuteTime": {
     "end_time": "2024-09-04T13:16:42.804663Z",
     "start_time": "2024-09-04T13:16:41.983376Z"
    }
   },
   "cell_type": "code",
   "source": [
    " # Flatten the nested measurements_matrix\n",
    "flattened_data = []\n",
    "for idx, row in df.iterrows():\n",
    "    lat = row['lat']\n",
    "    lng = row['lng']\n",
    "    measurements_matrix = row['measurements_matrix']\n",
    "    for _, measurement in measurements_matrix.iterrows():\n",
    "        flattened_row = {'lat': lat, 'lng': lng}\n",
    "        flattened_row.update(measurement.to_dict())\n",
    "        flattened_data.append(flattened_row)\n",
    "\n",
    "# Create a new DataFrame from the flattened data\n",
    "flattened_df = pd.DataFrame(flattened_data)\n",
    "\n",
    "# Drop invalid rows\n",
    "flattened_df.dropna(inplace=True)\n",
    "\n",
    "print(flattened_df)"
   ],
   "id": "2111567c42e3de8a",
   "outputs": [
    {
     "name": "stdout",
     "output_type": "stream",
     "text": [
      "             lat        lng   NPCI  eNodeBID    RSSI   NSINR   NRSRP   NRSRQ      ToA  operatorID  campaignID\n",
      "0      41.824214  12.465250    0.0  316061.0 -57.780   5.150 -66.190  -8.400  5530.90        88.0         1.0\n",
      "1      41.824214  12.465250   10.0  300043.0 -66.265  22.125 -71.030  -4.750  3530.24         1.0         1.0\n",
      "2      41.824214  12.465250   52.0  372017.0 -58.600   9.350 -64.980  -6.360  1221.26        88.0         1.0\n",
      "3      41.824214  12.465250   61.0  316716.0 -58.920  -9.400 -78.770 -20.020  4335.62        88.0         1.0\n",
      "4      41.824214  12.465250  112.0   69046.0 -63.265  -0.840 -75.580 -12.500  2707.04        10.0         1.0\n",
      "...          ...        ...    ...       ...     ...     ...     ...     ...      ...         ...         ...\n",
      "40095  41.870661  12.463569   41.0  318928.0 -61.100 -18.430 -88.290 -27.130  2359.91        88.0         6.0\n",
      "40096  41.870661  12.463569   78.0   67589.0 -70.890   0.445 -83.365 -12.350  1034.02        10.0         6.0\n",
      "40097  41.870661  12.463569  104.0   69081.0 -71.840 -13.255 -95.960 -24.055   435.32        10.0         6.0\n",
      "40098  41.870661  12.463569  -86.0  316601.0 -61.100  11.280 -69.075  -7.965  2359.54        88.0         6.0\n",
      "40099  41.870661  12.463569  -53.0   69073.0 -67.510 -13.950 -92.080 -24.540  5725.86        10.0         6.0\n",
      "\n",
      "[39966 rows x 11 columns]\n"
     ]
    }
   ],
   "execution_count": 3
  },
  {
   "metadata": {},
   "cell_type": "markdown",
   "source": "## Train the model",
   "id": "752d0fd6f55d0a06"
  },
  {
   "metadata": {
    "ExecuteTime": {
     "end_time": "2024-09-04T13:23:49.479355Z",
     "start_time": "2024-09-04T13:23:49.239924Z"
    }
   },
   "cell_type": "code",
   "source": [
    "from scripts.haversine import haversine_distance\n",
    "from sklearn.model_selection import train_test_split\n",
    "from sklearn.neighbors import KNeighborsRegressor\n",
    "import numpy as np\n",
    "\n",
    "print(f'Training KNN regressor with {flattened_df.shape[0]} samples')\n",
    "\n",
    "# Features: Include RSSI and other relevant features\n",
    "X = flattened_df[['RSSI', 'NPCI', 'eNodeBID', 'NSINR', 'NRSRP', 'NRSRQ', 'ToA', 'operatorID', 'campaignID']]\n",
    "\n",
    "# Target: Latitude and Longitude\n",
    "Y = flattened_df[['lat', 'lng']]\n",
    "\n",
    "# Split the data into training and testing sets\n",
    "X_train, X_test, y_train, y_test = train_test_split(X, Y, test_size=0.2, random_state=42)\n",
    "\n",
    "# Initialize and train the KNN regressor   \n",
    "knn = KNeighborsRegressor(n_neighbors=3)\n",
    "knn.fit(X_train, y_train)\n",
    "\n",
    "# Predict on the test set\n",
    "y_pred = knn.predict(X_test)\n",
    "\n",
    "# Calculate Haversine distances for each pair of true and predicted coordinates\n",
    "distances = np.array(\n",
    "    [haversine_distance(y_test.iloc[i, 0], y_test.iloc[i, 1], y_pred[i, 0], y_pred[i, 1]) for i in range(len(y_test))])\n",
    "\n",
    "# Calculate the Mean Squared Error of the Haversine distances\n",
    "mse_haversine = np.mean(distances ** 2)\n",
    "print(f'Mean Squared Error (Haversine Distance): {mse_haversine}')"
   ],
   "id": "33f0bc896e86b6a9",
   "outputs": [
    {
     "name": "stdout",
     "output_type": "stream",
     "text": [
      "Training KNN regressor with 39966 samples\n",
      "Mean Squared Error (Haversine Distance): 0.058893924560045115\n"
     ]
    }
   ],
   "execution_count": 14
  },
  {
   "metadata": {},
   "cell_type": "code",
   "outputs": [],
   "execution_count": null,
   "source": "",
   "id": "f4a5556d734e1e41"
  }
 ],
 "metadata": {
  "kernelspec": {
   "display_name": "Python 3 (ipykernel)",
   "language": "python",
   "name": "python3"
  },
  "language_info": {
   "codemirror_mode": {
    "name": "ipython",
    "version": 3
   },
   "file_extension": ".py",
   "mimetype": "text/x-python",
   "name": "python",
   "nbconvert_exporter": "python",
   "pygments_lexer": "ipython3",
   "version": "3.11.5"
  }
 },
 "nbformat": 4,
 "nbformat_minor": 5
}

{
 "cells": [
  {
   "metadata": {},
   "cell_type": "markdown",
   "source": "# 5G Localization",
   "id": "aa51527d8d132495"
  },
  {
   "metadata": {},
   "cell_type": "markdown",
   "source": "## Read matlab files to dataframes",
   "id": "d7a0621d83968b2"
  },
  {
   "cell_type": "code",
   "id": "a503af1d-b56c-4cc9-bb77-88d8a63bdbd5",
   "metadata": {
    "ExecuteTime": {
     "end_time": "2024-09-02T13:24:14.658276Z",
     "start_time": "2024-09-02T13:24:12.998021Z"
    }
   },
   "source": [
    "import os\n",
    "import pandas as pd\n",
    "from scripts.data_loader import load_matlab_file_as_df\n",
    "\n",
    "# source file\n",
    "BASE_DIR = \"data/\"\n",
    "FULL_DATA_SET = \"Campaign_data_NBIoT_1_2_3_4_5_6_interpolated_smoothed.mat\"\n",
    "filename = os.path.join(BASE_DIR, FULL_DATA_SET)\n",
    "\n",
    "# load the dataset as pandas dataframe\n",
    "df = load_matlab_file_as_df(\n",
    "    filename=filename, \n",
    "    dataset='dataSet_smooth', # dataSet, dataSet_interp or dataSet_smooth\n",
    "    usecols=['lat','lng','measurements_matrix']\n",
    ")\n",
    "\n",
    "# better printing of dataframes\n",
    "pd.set_option('display.max_columns', None)  # Show all columns\n",
    "pd.set_option('display.max_colwidth', None)  # No limit on column width\n",
    "pd.set_option('display.width', 1000)  # Set the display width to 1000 characters\n",
    "\n",
    "\n",
    "print(df.head(1))\n",
    "\n"
   ],
   "outputs": [
    {
     "name": "stdout",
     "output_type": "stream",
     "text": [
      "         lat       lng                                                                                                                                                                                                                                                                                                                                                                                                                                                                                                                                                                                                                                                                                                                                                                                    measurements_matrix\n",
      "0  41.824214  12.46525     NPCI  eNodeBID    RSSI    NSINR    NRSRP    NRSRQ      ToA  operatorID  campaignID\n",
      "0     0    316061 -57.780   5.1500 -66.1900  -8.4000  5530.90          88           1\n",
      "1    10    300043 -66.265  22.1250 -71.0300  -4.7500  3530.24           1           1\n",
      "2    52    372017 -58.600   9.3500 -64.9800  -6.3600  1221.26          88           1\n",
      "3    61    316716 -58.920  -9.4000 -78.7700 -20.0200  4335.62          88           1\n",
      "4   112     69046 -63.265  -0.8400 -75.5800 -12.5000  2707.04          10           1\n",
      "5    41     69042 -60.960   9.4600 -70.1400  -9.1675  4461.64          10           1\n",
      "6    42     69042 -60.970  -1.7475 -76.9925 -15.9350  4460.80          10           1\n",
      "7   -54    316057 -57.920  -3.6300 -74.2500 -16.5100  1517.94          88           1\n"
     ]
    }
   ],
   "execution_count": 6
  },
  {
   "metadata": {
    "ExecuteTime": {
     "end_time": "2024-09-01T18:45:36.021467Z",
     "start_time": "2024-09-01T18:45:36.017419Z"
    }
   },
   "cell_type": "code",
   "source": "",
   "id": "7845fa9c531dc2f8",
   "outputs": [],
   "execution_count": null
  },
  {
   "metadata": {},
   "cell_type": "markdown",
   "source": "## Prepare data",
   "id": "7e05d2d4d84da3"
  },
  {
   "metadata": {
    "ExecuteTime": {
     "end_time": "2024-09-02T13:40:28.336435Z",
     "start_time": "2024-09-02T13:40:27.566239Z"
    }
   },
   "cell_type": "code",
   "source": [
    " # Flatten the nested measurements_matrix\n",
    "flattened_data = []\n",
    "for idx, row in df.iterrows():\n",
    "    lat = row['lat']\n",
    "    lng = row['lng']\n",
    "    measurements_matrix = row['measurements_matrix']\n",
    "    for _, measurement in measurements_matrix.iterrows():\n",
    "        flattened_row = {'lat': lat, 'lng': lng}\n",
    "        flattened_row.update(measurement.to_dict())\n",
    "        flattened_data.append(flattened_row)\n",
    "\n",
    "# Create a new DataFrame from the flattened data\n",
    "flattened_df = pd.DataFrame(flattened_data)\n",
    "\n",
    "# Drop invalid rows\n",
    "flattened_df.dropna(inplace=True)"
   ],
   "id": "2111567c42e3de8a",
   "outputs": [],
   "execution_count": 17
  },
  {
   "metadata": {},
   "cell_type": "markdown",
   "source": "## Train the model",
   "id": "752d0fd6f55d0a06"
  },
  {
   "metadata": {
    "ExecuteTime": {
     "end_time": "2024-09-02T13:41:09.976050Z",
     "start_time": "2024-09-02T13:41:09.930584Z"
    }
   },
   "cell_type": "code",
   "source": [
    "from sklearn.model_selection import train_test_split\n",
    "from sklearn.neighbors import KNeighborsRegressor\n",
    "from sklearn.metrics import mean_squared_error\n",
    "\n",
    "\n",
    "print(f'Training KNN regressor with {flattened_df.shape[0]} samples')\n",
    "X = flattened_df[['lat', 'lng', 'NPCI', 'eNodeBID', 'NSINR', 'NRSRP', 'NRSRQ', 'ToA', 'operatorID', 'campaignID']]\n",
    "Y = flattened_df['RSSI']\n",
    "\n",
    "# Split the data into training and testing sets\n",
    "X_train, X_test, y_train, y_test = train_test_split(X, Y, test_size=0.2, random_state=42)\n",
    "\n",
    "# Initialize and train the KNN regressor\n",
    "knn = KNeighborsRegressor(n_neighbors=3)\n",
    "knn.fit(X_train, y_train)\n",
    "\n",
    "# Predict on the test set\n",
    "y_pred = knn.predict(X_test)\n",
    "\n",
    "# Evaluate the model\n",
    "mse = mean_squared_error(y_test, y_pred)\n",
    "print(f'Mean Squared Error: {mse}')"
   ],
   "id": "33f0bc896e86b6a9",
   "outputs": [
    {
     "name": "stdout",
     "output_type": "stream",
     "text": [
      "Training KNN regressor with 39966 samples\n",
      "Mean Squared Error: 1.393609890808636\n"
     ]
    }
   ],
   "execution_count": 48
  }
 ],
 "metadata": {
  "kernelspec": {
   "display_name": "Python 3 (ipykernel)",
   "language": "python",
   "name": "python3"
  },
  "language_info": {
   "codemirror_mode": {
    "name": "ipython",
    "version": 3
   },
   "file_extension": ".py",
   "mimetype": "text/x-python",
   "name": "python",
   "nbconvert_exporter": "python",
   "pygments_lexer": "ipython3",
   "version": "3.11.5"
  }
 },
 "nbformat": 4,
 "nbformat_minor": 5
}

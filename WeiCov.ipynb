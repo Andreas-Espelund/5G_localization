{
 "cells": [
  {
   "metadata": {},
   "cell_type": "markdown",
   "source": "# NB-IoT Localization - WKNN",
   "id": "a4b55a4963188ba4"
  },
  {
   "metadata": {},
   "cell_type": "markdown",
   "source": "## Data loading",
   "id": "e71a8838d2d44c29"
  },
  {
   "metadata": {
    "ExecuteTime": {
     "end_time": "2024-09-23T14:42:47.258041Z",
     "start_time": "2024-09-23T14:42:47.251305Z"
    }
   },
   "cell_type": "code",
   "source": [
    "import numpy as np\n",
    "import pandas as pd\n",
    "\n",
    "from scripts.weighted_coverage import create_point_matrix\n",
    "\n",
    "rf_param = 'NSINR'\n",
    "\n",
    "# Sample data for Reference Points (RPs)\n",
    "data_rp = {\n",
    "    'Latitude': [52.5200, 48.8566, 51.5074, 40.7128, 34.0522],\n",
    "    'Longitude': [13.4050, 2.3522, -0.1278, -74.0060, -118.2437],\n",
    "    'NPCI1': [1, 1, 2, 1, 2],\n",
    "    'NPCI2': [2, 3, 2, 2, 3],\n",
    "    'NPCI3': [8, 8, 8, 8, 8],\n",
    "    'NSINR': [30, np.nan, 40, 25, 35]\n",
    "}\n",
    "\n",
    "# Sample data for Test Points (TPs)\n",
    "data_tp = {\n",
    "    'Latitude': [52.5200, 48.8566, 51.5074, 40.7128, 34.0522],\n",
    "    'Longitude': [13.4050, 2.3522, -0.1278, -74.0060, -118.2437],\n",
    "    'NPCI1': [1, 1, 2, 1, 2],\n",
    "    'NPCI2': [2, 3, 2, 2, 3],\n",
    "    'NPCI3': [8, 8, 8, 8, 8],\n",
    "    'NSINR': [28, 22, 38, 20, 32]\n",
    "}\n",
    "\n",
    "# Create DataFrames\n",
    "df_rp = pd.DataFrame(data_rp)\n",
    "df_tp = pd.DataFrame(data_tp)"
   ],
   "id": "7a91f52a3c9e20f5",
   "outputs": [],
   "execution_count": 20
  },
  {
   "metadata": {},
   "cell_type": "markdown",
   "source": "## Data processing",
   "id": "91d0e464f93528fa"
  },
  {
   "metadata": {
    "ExecuteTime": {
     "end_time": "2024-09-23T14:42:47.398933Z",
     "start_time": "2024-09-23T14:42:47.393489Z"
    }
   },
   "cell_type": "code",
   "source": [
    "# Concatenate NPCI columns from both DataFrames\n",
    "npcis_rp = pd.concat([df_rp['NPCI1'], df_rp['NPCI2'], df_rp['NPCI3']])\n",
    "npcis_tp = pd.concat([df_tp['NPCI1'], df_tp['NPCI2'], df_tp['NPCI3']])\n",
    "\n",
    "all_npcis = pd.concat([npcis_rp, npcis_tp])\n",
    "unique_npcis = np.unique(all_npcis)\n",
    "\n",
    "# Create matrices for reference points\n",
    "m_rfp, idx_rfp = create_point_matrix(df_rp, unique_npcis, rf_param)\n",
    "\n",
    "# Create matrices for test points \n",
    "m_tp, idx_tp = create_point_matrix(df_tp, unique_npcis, rf_param)\n"
   ],
   "id": "63533917984d1b29",
   "outputs": [],
   "execution_count": 21
  },
  {
   "metadata": {},
   "cell_type": "markdown",
   "source": "## Compute weights",
   "id": "c01a0e75622c8674"
  },
  {
   "metadata": {
    "ExecuteTime": {
     "end_time": "2024-09-23T14:42:47.423286Z",
     "start_time": "2024-09-23T14:42:47.419192Z"
    }
   },
   "cell_type": "code",
   "source": [
    "from scipy.spatial.distance import cdist\n",
    "\n",
    "# Caclulate distances between tps and rps\n",
    "D = cdist(m_tp, m_rfp, metric='euclidean')\n",
    "\n",
    "# Normalize distances based on common NPCIs\n",
    "for i in range(m_tp.shape[0]):\n",
    "    match = np.logical_and(idx_tp[i, :], idx_rfp)\n",
    "    s = np.sum(match, axis=1)\n",
    "    z = np.where(s == 0)\n",
    "    nz = np.where(s != 0)\n",
    "\n",
    "    for j in nz[0]:\n",
    "        D[i, j] = D[i, j] / s[j]\n",
    "    for j in z[0]:\n",
    "        D[i, j] = np.inf  # Use np.inf to represent a very large distance\n",
    "\n",
    "# Set distances to dummy reference points to a very large value\n",
    "dummy_rfps = np.all(idx_rfp == 0, axis=1)\n",
    "D[:, dummy_rfps] = np.inf\n",
    "\n",
    "# Replace zero distances with a small value to avoid singularities\n",
    "D[D == 0] = np.min(D[D != 0]) / 20\n",
    "\n",
    "# Sort distances and compute weights\n",
    "D_sort = np.sort(D, axis=1)\n",
    "idx_sort = np.argsort(D, axis=1)\n",
    "W = 1.0 / D_sort"
   ],
   "id": "ccec98d76838c29",
   "outputs": [],
   "execution_count": 22
  },
  {
   "metadata": {},
   "cell_type": "markdown",
   "source": "## WKNN",
   "id": "5db5abb29ce32866"
  },
  {
   "metadata": {
    "ExecuteTime": {
     "end_time": "2024-09-23T14:42:47.451140Z",
     "start_time": "2024-09-23T14:42:47.440628Z"
    }
   },
   "cell_type": "code",
   "source": [
    "from scripts.haversine import haversine_distance\n",
    "\n",
    "num_tps = df_tp.shape[0]\n",
    "k_max = 40\n",
    "k_values = range(1, k_max + 1)\n",
    "TP_est_location = [None] * len(k_values)\n",
    "avg_errors = {}\n",
    "\n",
    "# Extract real positions of test points\n",
    "real_lat = df_tp['Latitude'].values\n",
    "real_long = df_tp['Longitude'].values\n",
    "real_position = np.vstack((real_lat, real_long)).T\n",
    "\n",
    "# Loop over each k value\n",
    "for i, this_k in enumerate(k_values):\n",
    "    # Select the k-nearest reference points\n",
    "    RFP_selected_idx = idx_sort[:, :this_k]\n",
    "\n",
    "    # Extract coordinates of the selected reference points\n",
    "    lat_k_RFP_matrix = df_rp.iloc[RFP_selected_idx.flatten()]['Latitude'].values.reshape(RFP_selected_idx.shape)\n",
    "    long_k_RFP_matrix = df_rp.iloc[RFP_selected_idx.flatten()]['Longitude'].values.reshape(RFP_selected_idx.shape)\n",
    "\n",
    "    # Compute weighted sums of coordinates\n",
    "    sum_lat = np.sum(lat_k_RFP_matrix * W[:, :this_k], axis=1)\n",
    "    sum_long = np.sum(long_k_RFP_matrix * W[:, :this_k], axis=1)\n",
    "\n",
    "    # Compute estimated coordinates of test points\n",
    "    lat_k_TP = sum_lat / np.sum(W[:, :this_k], axis=1)\n",
    "    long_k_TP = sum_long / np.sum(W[:, :this_k], axis=1)\n",
    "\n",
    "    # Compute errors using Haversine formula\n",
    "    km_pow = haversine_distance(real_position[:, 0], real_position[:, 1], lat_k_TP, long_k_TP)\n",
    "    average_error_pow = np.mean(km_pow)\n",
    "\n",
    "    avg_errors[this_k] = average_error_pow\n",
    "\n",
    "    # Store estimated locations\n",
    "    TP_est_location_k = np.zeros((num_tps, 2))\n",
    "    TP_est_location_k[:, 0] = lat_k_TP\n",
    "    TP_est_location_k[:, 1] = long_k_TP\n",
    "    TP_est_location[i] = TP_est_location_k"
   ],
   "id": "a647a91d19d6fa86",
   "outputs": [],
   "execution_count": 23
  }
 ],
 "metadata": {
  "kernelspec": {
   "display_name": "Python 3",
   "language": "python",
   "name": "python3"
  },
  "language_info": {
   "codemirror_mode": {
    "name": "ipython",
    "version": 2
   },
   "file_extension": ".py",
   "mimetype": "text/x-python",
   "name": "python",
   "nbconvert_exporter": "python",
   "pygments_lexer": "ipython2",
   "version": "2.7.6"
  }
 },
 "nbformat": 4,
 "nbformat_minor": 5
}
